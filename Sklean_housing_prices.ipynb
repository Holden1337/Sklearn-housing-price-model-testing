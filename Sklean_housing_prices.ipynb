{
 "cells": [
  {
   "cell_type": "markdown",
   "id": "693a019e",
   "metadata": {},
   "source": [
    "# Using Sklearn to create a decision tree model to predict housing prices. Also using maximum absolute error to determine maximum number of leaf nodes. Then a random forest model will be made and compared with the decision tree model"
   ]
  },
  {
   "cell_type": "code",
   "execution_count": 9,
   "id": "65618bb3",
   "metadata": {},
   "outputs": [],
   "source": [
    "\n",
    "import pandas as pd\n",
    "pd.plotting.register_matplotlib_converters()\n",
    "import matplotlib.pyplot as plt\n",
    "%matplotlib inline\n",
    "import seaborn as sns\n",
    "from sklearn.metrics import mean_absolute_error\n",
    "from sklearn.model_selection import train_test_split\n",
    "from sklearn.tree import DecisionTreeRegressor\n",
    "from sklearn.ensemble import RandomForestRegressor"
   ]
  },
  {
   "cell_type": "markdown",
   "id": "35b551f1",
   "metadata": {},
   "source": [
    "## Import data and read with pandas. Then set target variable we would like to predict as the housing price and use the list of features from the csv file"
   ]
  },
  {
   "cell_type": "code",
   "execution_count": 6,
   "id": "e90bf0ce",
   "metadata": {},
   "outputs": [
    {
     "name": "stdout",
     "output_type": "stream",
     "text": [
      "Validation MAE: 29,653\n"
     ]
    }
   ],
   "source": [
    "#path of file to read\n",
    "path = '/home/holden/programming/python/data_analysis/train.csv'\n",
    "\n",
    "\n",
    "#read housing price data using pandas\n",
    "housing_price_data = pd.read_csv(path)\n",
    "\n",
    "#target variable we would like to predict\n",
    "y = housing_price_data.SalePrice\n",
    "\n",
    "\n",
    "features = ['LotArea', 'YearBuilt', '1stFlrSF', '2ndFlrSF', 'FullBath', 'BedroomAbvGr', 'TotRmsAbvGrd']\n",
    "X = housing_price_data[features]\n",
    "\n",
    "\n",
    "# Split into validation and training data\n",
    "train_X, val_X, train_y, val_y = train_test_split(X, y, random_state=1)\n",
    "\n",
    "\n",
    "\n",
    "# Specify Model\n",
    "model = DecisionTreeRegressor(random_state=1)\n",
    "# Fit Model\n",
    "model.fit(train_X, train_y)\n",
    "\n",
    "\n",
    "# Make validation predictions and calculate mean absolute error\n",
    "val_predictions = model.predict(val_X)\n",
    "val_mae = mean_absolute_error(val_predictions, val_y)\n",
    "print(\"Validation MAE: {:,.0f}\".format(val_mae))\n",
    "\n",
    "\n"
   ]
  },
  {
   "cell_type": "markdown",
   "id": "cb1029fa",
   "metadata": {},
   "source": [
    "## Now we will compare different tree sizes to see which tree size produces the least amount of error"
   ]
  },
  {
   "cell_type": "code",
   "execution_count": 7,
   "id": "cb5ea31f",
   "metadata": {},
   "outputs": [],
   "source": [
    "#create a function to create a model and test with different number of leaf nodes\n",
    "def get_mae(max_leaf_nodes, train_X, val_X, train_y, val_y):\n",
    "    model = DecisionTreeRegressor(max_leaf_nodes=max_leaf_nodes, random_state=0)\n",
    "    model.fit(train_X, train_y)\n",
    "    preds_val = model.predict(val_X)\n",
    "    mae = mean_absolute_error(val_y, preds_val)\n",
    "    return(mae)"
   ]
  },
  {
   "cell_type": "code",
   "execution_count": 8,
   "id": "59cdc87f",
   "metadata": {},
   "outputs": [
    {
     "name": "stdout",
     "output_type": "stream",
     "text": [
      "Max leaf nodes: 5  \t\t Mean Absolute Error:  35044\n",
      "Max leaf nodes: 25  \t\t Mean Absolute Error:  29016\n",
      "Max leaf nodes: 50  \t\t Mean Absolute Error:  27405\n",
      "Max leaf nodes: 100  \t\t Mean Absolute Error:  27282\n",
      "Max leaf nodes: 250  \t\t Mean Absolute Error:  27893\n",
      "Max leaf nodes: 500  \t\t Mean Absolute Error:  29454\n"
     ]
    }
   ],
   "source": [
    "\n",
    "#loop through different candidates for maximum number of leaf nodes and compare maximum absolute error\n",
    "candidate_max_leaf_nodes = [5, 25, 50, 100, 250, 500]\n",
    "for max_leaf_nodes in candidate_max_leaf_nodes:\n",
    "    my_mae = get_mae(max_leaf_nodes, train_X, val_X, train_y, val_y)\n",
    "    print(\"Max leaf nodes: %d  \\t\\t Mean Absolute Error:  %d\" %(max_leaf_nodes, my_mae))"
   ]
  },
  {
   "cell_type": "markdown",
   "id": "e8a5f869",
   "metadata": {},
   "source": [
    "## Based on above results, 100 maximum leaf nodes produces the smallest mean absolute error so it is the best choice for the model"
   ]
  },
  {
   "cell_type": "markdown",
   "id": "919adfd4",
   "metadata": {},
   "source": [
    "## Now we will create a new random forest model and compare it with the decision tree model"
   ]
  },
  {
   "cell_type": "code",
   "execution_count": 10,
   "id": "6afd0d59",
   "metadata": {},
   "outputs": [
    {
     "name": "stdout",
     "output_type": "stream",
     "text": [
      "Validation MAE for Random Forest Model: 21857.15912981083\n"
     ]
    }
   ],
   "source": [
    "# Define the model. Set random_state to 1\n",
    "rf_model = RandomForestRegressor(random_state=1)\n",
    "\n",
    "# fit model\n",
    "rf_model.fit(train_X, train_y)\n",
    "\n",
    "\n",
    "val_predictions = rf_model.predict(val_X)\n",
    "#val_mae = \n",
    "# Calculate the mean absolute error of your Random Forest model on the validation data\n",
    "rf_val_mae = mean_absolute_error(val_predictions, val_y)\n",
    "\n",
    "print(\"Validation MAE for Random Forest Model: {}\".format(rf_val_mae))\n"
   ]
  },
  {
   "cell_type": "markdown",
   "id": "e0cd1a09",
   "metadata": {},
   "source": [
    "## As the random forest model has a much lower mean absolute error than the decision tree model, it would be the more optimal model to use."
   ]
  }
 ],
 "metadata": {
  "kernelspec": {
   "display_name": "Python 3",
   "language": "python",
   "name": "python3"
  },
  "language_info": {
   "codemirror_mode": {
    "name": "ipython",
    "version": 3
   },
   "file_extension": ".py",
   "mimetype": "text/x-python",
   "name": "python",
   "nbconvert_exporter": "python",
   "pygments_lexer": "ipython3",
   "version": "3.9.4"
  }
 },
 "nbformat": 4,
 "nbformat_minor": 5
}
